{
 "cells": [
  {
   "cell_type": "code",
   "execution_count": 1,
   "metadata": {},
   "outputs": [],
   "source": [
    "import pandas as pd\n",
    "from os import listdir\n",
    "from os.path import isfile, join"
   ]
  },
  {
   "cell_type": "code",
   "execution_count": 2,
   "metadata": {},
   "outputs": [],
   "source": [
    "#Función que permite \"parsear\" archivos F24 de OPTA (XML)\n",
    "def eventos_opta(nombre_archivo):\n",
    "    import xml.etree.ElementTree as ET\n",
    "    import pandas as pd\n",
    "    import os\n",
    "    import glob\n",
    "    import numpy as np\n",
    "    \n",
    "    global archivo\n",
    "    \n",
    "    tree = ET.ElementTree(file = nombre_archivo)\n",
    "    archivo = tree.getroot()\n",
    "    \n",
    "    lista_principal = []\n",
    "\n",
    "    for partido in archivo:\n",
    "        id_visitante = partido.attrib.get(\"away_team_id\")\n",
    "        id_local = partido.attrib.get(\"home_team_id\")\n",
    "        visitante = partido.attrib.get(\"away_team_name\")\n",
    "        local = partido.attrib.get(\"home_team_name\")\n",
    "        fecha = partido.attrib.get('matchday')\n",
    "        gol_local = partido.attrib.get('home_score')\n",
    "        gol_visitante = partido.attrib.get('away_score')\n",
    "        \n",
    "        for evento in partido:\n",
    "             for q in evento:\n",
    "                 qualifier = q.attrib.get(\"qualifier_id\")\n",
    "                 if qualifier == \"277\":\n",
    "                     tiempo = evento.attrib.get(\"period_id\")\n",
    "                     if tiempo == \"1\":\n",
    "                         Stoppage_1 = (q.attrib.get(\"value\"))\n",
    "                     if tiempo == \"2\":\n",
    "                         Stoppage_2 = (q.attrib.get(\"value\"))\n",
    "                            \n",
    "                 variables = {\"y\": evento.attrib.get(\"y\"),\n",
    "                              \"x\": evento.attrib.get(\"x\"),\n",
    "                              \"outcome\": evento.attrib.get(\"outcome\"),\n",
    "                              \"id_equipo\": evento.attrib.get(\"team_id\"),\n",
    "                              \"id_jugador\": evento.attrib.get(\"player_id\"),\n",
    "                              \"segundo\": evento.attrib.get(\"sec\"),\n",
    "                              \"minuto\": evento.attrib.get(\"min\"),\n",
    "                              \"id_periodo\": evento.attrib.get(\"period_id\"),\n",
    "                              \"id_categoria_evento\": evento.attrib.get(\"type_id\"),\n",
    "                              \"id_evento\": evento.attrib.get(\"event_id\"),\n",
    "                              \"id_calificador\": q.attrib.get(\"qualifier_id\"),\n",
    "                              \"valor\": q.attrib.get(\"value\"),\n",
    "                              'id_local':id_local,\n",
    "                              'id_visitante':id_visitante,\n",
    "                              'local':local,\n",
    "                              'visitante':visitante,\n",
    "                              'gol_local':gol_local,\n",
    "                              'gol_visitante':gol_visitante,\n",
    "                              'fecha':fecha}\n",
    "                                  \n",
    "                 lista_principal.append(variables)     \n",
    "                \n",
    "    eventos = pd.DataFrame(lista_principal)\n",
    "    return (eventos)"
   ]
  },
  {
   "cell_type": "code",
   "execution_count": 3,
   "metadata": {},
   "outputs": [],
   "source": [
    "#Función que permite obtener lista de jugadores a partir de archivo F9 de OPTA (XML)\n",
    "def jugadores_opta(archivo2):\n",
    "    import xml.etree.ElementTree as et\n",
    "    tree2 = et.ElementTree(file = archivo2)\n",
    "    archivo2 = tree2.getroot()\n",
    "    id_jugador = []\n",
    "    nombre_jugador = []\n",
    "\n",
    "    for child in archivo2:\n",
    "\n",
    "        for grchild in child:\n",
    "            \n",
    "            if grchild.tag == \"Team\":\n",
    "                \n",
    "                for grgrchild in grchild:\n",
    "                    \n",
    "                    if grgrchild.tag == \"Player\":\n",
    "                        \n",
    "                        id_jugador.append(grgrchild.attrib[\"uID\"].lstrip('p'))\n",
    "                        \n",
    "                        for grgrgrchild in grgrchild:\n",
    "                            \n",
    "                            nombre_jugador.append(grgrgrchild[0].text + \" \" + grgrgrchild[-1].text)\n",
    "\n",
    "    jugadores = dict(zip(id_jugador,nombre_jugador))\n",
    "    return (jugadores)"
   ]
  },
  {
   "cell_type": "code",
   "execution_count": 4,
   "metadata": {},
   "outputs": [],
   "source": [
    "# Se obtiene la lista de archivos en la carpeta \"datos_OPTA\" donde se encuentran los archivos F24 y F9.\n",
    "# Se cuenta con 380 archivos F24 y 380 archivos F9.\n",
    "archivos = [f for f in listdir(r'C:\\Users\\DELUX\\Desktop\\consultoria_futbol\\analitica\\rawdata\\OPTA\\laLiga_1819') if isfile(join(r'C:\\Users\\DELUX\\Desktop\\consultoria_futbol\\analitica\\rawdata\\OPTA\\laLiga_1819', f))]"
   ]
  },
  {
   "cell_type": "code",
   "execution_count": 5,
   "metadata": {},
   "outputs": [],
   "source": [
    "# Lista de archivos F24.\n",
    "f24 = archivos[0:380]"
   ]
  },
  {
   "cell_type": "code",
   "execution_count": 6,
   "metadata": {},
   "outputs": [
    {
     "name": "stdout",
     "output_type": "stream",
     "text": [
      "C:\\Users\\DELUX\\Desktop\\consultoria_futbol\\analitica\\rawdata\\OPTA\\laLiga_1819\n"
     ]
    }
   ],
   "source": [
    "cd C:\\Users\\DELUX\\Desktop\\consultoria_futbol\\analitica\\rawdata\\OPTA\\laLiga_1819"
   ]
  },
  {
   "cell_type": "code",
   "execution_count": 7,
   "metadata": {},
   "outputs": [],
   "source": [
    "# Se aplica la 1era función al conjunto de archivos F24.\n",
    "eventos = []\n",
    "for e in f24:\n",
    "    partido = eventos_opta(e)\n",
    "    eventos.append(partido)"
   ]
  },
  {
   "cell_type": "code",
   "execution_count": 8,
   "metadata": {},
   "outputs": [],
   "source": [
    "# Dataframe con la totalidad de datos de LaLiga (temporada 2018-2019)\n",
    "laLiga = pd.concat(eventos, axis=0)"
   ]
  },
  {
   "cell_type": "code",
   "execution_count": 9,
   "metadata": {},
   "outputs": [],
   "source": [
    "# Lista de archivos F9.\n",
    "f9 = archivos[-383:-3]"
   ]
  },
  {
   "cell_type": "code",
   "execution_count": 10,
   "metadata": {},
   "outputs": [],
   "source": [
    "# Se aplica la 2da función al conjunto de archivos F9.\n",
    "jug = []\n",
    "for e in f9:\n",
    "    jugador = jugadores_opta(e)\n",
    "    jug.append(jugador)\n",
    "dicc_jugadores = {}\n",
    "for d in jug:\n",
    "    dicc_jugadores.update(d)"
   ]
  },
  {
   "cell_type": "code",
   "execution_count": 11,
   "metadata": {},
   "outputs": [],
   "source": [
    "# Dataframe.\n",
    "# id_categoria_evento:categoria_evento\n",
    "dicc_eventos = {'1':'pase','2':'pase en offside','3':'drible','4':'falta','5':'balón sale','6':'tiro de esquina',\n",
    "               '7':'tacle','8':'intercepción','9':'error no forzado / pérdida de posesión','10':'salvada del portero',\n",
    "                '11':'portero descuelga centro','12':'despeje','13':'remate fallido','14':'poste','15':'tiro salvado',\n",
    "                '16':'gol','17':'tarjeta','18':'jugador sale','19':'jugador entra','20':'jugador retirdo (no hay cambios)',\n",
    "                '21':'jugador vuelve','22':'jugador se vuelve portero','23':'portero se vuelve jugador',\n",
    "                '24':'cambio condiciones de juego','25':'cambio de árbitro','27':'reinicio demorado','28':'fin demora',\n",
    "                '30':'fin de tiempo','32':'inicio de tiempo','34':'alineación de equipo','35':'jugador cambia de posición',\n",
    "                '36':'jugador cambia camiseta','37':'fin de partido','38':'gol (pendiente)','39':'remate (pendiente)',\n",
    "                '40':'cambio de formación','41':'despeje con puños','42':'despliegue de habilidad','43':'evento borrado',\n",
    "                '44':'duelo aéreo','45':'jugador gambeteado','47':'tarjeta anulada','49':'recuperación de balón',\n",
    "                '50':'jugador tacleado','51':'error provoca remate','52':'portero recoge el balón',\n",
    "                '53':'portero falla descolgar','54':'portero gana posesión','55':'offside provocado',\n",
    "                '56':'cubre balón con cuerpo','57':'mal saque lateral','58':'portero en penal',\n",
    "                '59':'salida despeje de portero','60':'oportunidad desperdiciada','61':'mala recepción',\n",
    "                '63':'salvada (pendiente)','64':'partido reanudado','65':'decisión contenciosa','68':'árbitro bota el balón',\n",
    "                '70':'tiempo muerto por lesión','71':'configuración de entrenador','72':'jugador en offside',\n",
    "                '74':'pase bloqueado','75':'partido comienza demorado','76':'partido termina temprano',\n",
    "                '77':'jugador fuera de terreno de juego','79':'interrupción de señal'}"
   ]
  },
  {
   "cell_type": "code",
   "execution_count": 12,
   "metadata": {},
   "outputs": [],
   "source": [
    "# Dataframe.\n",
    "# id_calificador:calificador\n",
    "dicc_calificadores = {'1':'balón largo','2':'centro','3':'pase de cabeza','4':'balón en profundidad','5':'tiro libre',\n",
    "                     '6':'tiro de esquina','7':'jugador en offside','8':'pase gol anulado','107':'saque lateral','140':'x_1',\n",
    "                     '141':'y_1','152':'tiro libre directo','155':'pase globo','156':'pase en dirección corrida',\n",
    "                     '157':'pase a la zona','168':'pase acomodado con la cabeza','195':'pase hacía atrás en área',\n",
    "                     '196':'cambio de frente','210':'asistencia a remate','212':'distancia de balón','213':'angulo de balón',\n",
    "                     '218':'pase para segunda asistencia','223':'tiro de esquina hacía adentro',\n",
    "                      '224':'tiro de esquina hacía afuera','225':'tiro de esquina recto','236':'pase bloquedo',\n",
    "                      '238':'fairplay','240':'comienzo del portero','241':'tiro libre indirecto','279':'saque del centro',\n",
    "                      '278':'toque de balón','287':'portero pasa con brazo','345':'centro bueno',\n",
    "                      '346':'siguiente evento es saque de meta','347':'siguiente evento es lateral',\n",
    "                      '23':'pase offside en contraataque','297':'pase offside remate con rebote',\n",
    "                     '298':'pase offside remate bloqueado','15':'cabeza','72':'pie izquierdo','20':'pie derecho',\n",
    "                     '21':'otra parte del cuerpo','22':'remate en jugada regular','23':'remate en contraataque',\n",
    "                     '24':'remate en jugada a balón parado','25':'remate a partir de tiro esquina','26':'remate de tiro libre',\n",
    "                     '29':'remate asistido','55':'id evento relevante','154':'asistencia intencional',\n",
    "                     '160':'remate en jugada de lateral','233':'id evento contrario relevante','9':'penal','28':'auto gol',\n",
    "                     '108':'volea','113':'remate fuerte','114':'remate débil','120':'remate con desvío izquierda',\n",
    "                     '121':'remate con desvío derecha','122':'remate con varios desvíos','133':'remate desviado en jugador',\n",
    "                     '136':'gol tocado por portero','137':'remate salvado por portero','138':'remate al palo',\n",
    "                     '153':'remate fallido que no sale','214':'gran oportunidad de gol','215':'jugada individual',\n",
    "                     '217':'remate segunda asistencia','228':'remate bloqueado por propio compañero',\n",
    "                     '230':'x portero en gol o poste','231':'y portero en gol o poste','254':'gol con gambeta',\n",
    "                     '263':'gol olímpico','316':'penal con pase','328':'remate de primera','16':'área chica al centro',\n",
    "                     '17':'área grande al centro','18':'fuera del área al centro','19':'más de 35 al centro',\n",
    "                     '60':'área chica a la derecha','61':'área chica a la izquierda','62':'área grande al fondo derecha',\n",
    "                     '63':'área grande a la derecha','64':'área grande a la izquierda','65':'área grande al fondo izquierda',\n",
    "                     '66':'fuera del área al fondo derecha','67':'fuera del área a la derecha',\n",
    "                     '68':'fuera del área a la izquierda','69':'fuera del área al fondo izquierda',\n",
    "                     '70':'más de 35 a la derecha','71':'más de 35 a la izquierda','73':'balón sale por la izquierda',\n",
    "                     '74':'balón sale por arriba','75':'balón sale por la derecha','76':'gol por abajo a la izquierda',\n",
    "                     '77':'gol por arriba a la izquierda','78':'gol por abajo medio','79':'gol por arriba medio',\n",
    "                     '80':'gol por abajo a la derecha','81':'gol por arriba a la derecha','82':'bloquedo',\n",
    "                     '83':'cerca izquierda','84':'cerca derecha','85':'cerca arriba','86':'cerca arriba izquierda',\n",
    "                     '87':'cerca arriba derecha','100':'remate bloqueado en yarda 6','101':'remate salvado en línea de gol',\n",
    "                     '102':'y_gol','103':'z_gol','146':'x remate bloqueado','147':'y remate bloqueado',\n",
    "                     '276':'remate fallido al lateral','300':'corrida en solitario','10':'falta por mano',\n",
    "                     '11':'falta portero regla 6 segundos','12':'falta por jugada peligrosa','13':'falta',\n",
    "                      '31':'tarjeta amarilla','32':'segunda tarjeta amarilla','33':'tarjeta roja',\n",
    "                      '34':'tarjeta por abusar de árbitro','35':'tarjeta por discutir','36':'tarjeta por conducta violenta',\n",
    "                      '37':'tarjeta por perder tiempo','38':'tarjeta por celebración excesiva',\n",
    "                      '39':'tarjeta por interacción con público','40':'tarjeta por otra razón',\n",
    "                      '95':'falta portero recibe pase con mano','132':'simulación de falta',\n",
    "                      '158':'tarjeta por reiteración de faltas','159':'tarjeta por lenguaje abusivo',\n",
    "                     '161':'tarjeta por obstaculizar tiro libre','162':'tarjeta por salir del campo sin permiso',\n",
    "                     '163':'tarjeta por entrar al campo sin permiso','164':'tarjeta por escupir',\n",
    "                     '165':'tarjeta por falta técnica','166':'tarjeta por salvar gol con mano',\n",
    "                     '171':'tarjeta anulada post partido','172':'tarjeta a jugador en banquillo que no entra',\n",
    "                     '184':'tarjeta por desobedecer al árbitro','191':'tarjeta por falta a jugador sin balón',\n",
    "                     '192':'falta por bloquear remate con mano','241':'falta indirecta','242':'falta por obstrucción',\n",
    "                     '243':'tarjeta por comportamiento antideportivo','244':'tarjeta por no retroceder en balón parado',\n",
    "                     '245':'tarjeta por falta fuerte','264':'falta aérea','265':'falta por intento de tacle',\n",
    "                     '289':'falta para evitar oportunidad de gol','294':'falta por empujar','295':'falta por jalar camiseta',\n",
    "                     '296':'falta por usar codo o jugada violenta','313':'falta por reinicio de jugada ilegalmente',\n",
    "                     '314':'reinicio por remate que golpea a jugador en offside','190':'portero salva remate que salía',\n",
    "                      '88':'portero descuelga centro','89':'atacante en uno a uno con portero',\n",
    "                      '123':'portero saca balón por lateral','124':'pase de saque de meta',\n",
    "                      '128':'portero despeja con puños','139':'portero salva remate desviado en compañero',\n",
    "                      '173':'portero rechaza remate a lugar seguro','174':'portero rechaza remate a rival',\n",
    "                      '175':'portero salva con los dedos','176':'portero agarra balón',\n",
    "                      '177':'portero salva y gana posesión de balón','178':'portero salva quieto','179':'portero salva volando',\n",
    "                      '180':'portero salva agachado','181':'portero salva estirándose por balón',\n",
    "                      '182':'portero salva con manos','183':'portero salva con pies',\n",
    "                      '198':'portero despeja con pie dejando balón en suelo','199':'portero despeja con mano-pie',\n",
    "                      '237':'saque de meta bajo','273':'choca en poste derecho luego de salvada',\n",
    "                      '274':'choca en poste izquierdo luego de salvada','275':'choca en larguero luego de salvada',\n",
    "                      '232':'portero agarra balón sin presión','301':'portero salva remate de centro',\n",
    "                      '186':'portero recibe gol de penal','187':'portero salva penal','188':'portero no salva, penal desviado',\n",
    "                      '14':'acción defensiva en última línea','94':'jugador bloquea remate','167':'tacle o despeje saca balón',\n",
    "                      '169':'error provoca remate a portería','170':'error provoca gol','185':'centro bloqueado',\n",
    "                      '239':'tiro libre bloqueado por barrera','285':'duelo defensivo','286':'duelo ofensivo','211':'overrun',\n",
    "                      '234':'posesión local','235':'posesión visitante','288':'tiempo sin jugar',\n",
    "                      '30':'equipo titular y suplente','41':'sustitución por lesión','42':'sustitución táctica',\n",
    "                      '44':'posición de jugador','59':'número de la camiseta','130':'formación del equipo',\n",
    "                      '131':'formación de jugador en el equipo','145':'lugar en la formacion','194':'capitán',\n",
    "                      '197':'indumentaria del equipo','283':'id_entrenador','290':'roles de entrenadores',\n",
    "                      '292':'posición detallada','293':'lugar de la posición','319':'cambio de capitán',\n",
    "                      '50':'posición de árbitros','51':'id árbitros','200':'árbitro para jugada','201':'árbitro demora jugada',\n",
    "                      '208':'árbitro lesionado','247':'árbitro toma decisión contenciosa por offside',\n",
    "                      '248':'árbitro toma decisión contenciosa en jugada de gol','53':'id jugador lesionado',\n",
    "                      '202':'clima interrumpe partido','203':'público interrumpe partido','204':'fuego interrumpe partido',\n",
    "                      '205':'objetos arrojados interrumpen partido','206':'público invade cancha interrumpe partido',\n",
    "                      '207':'árbitro demora decisión','226':'partido se suspende',\n",
    "                      '227':'partido se reanuda luego de suspensión','246':'pausa por hidratación','299':'demora afecta reloj',\n",
    "                      '303':'falla en los reflectores','344':'pérdido de señal','54':'causa de la finalización de partido',\n",
    "                      '189':'evento no visible','209':'final del partido','277':'minutos que se adicionan',\n",
    "                      '46':'condiciones de juego','47':'estado de la cancha','48':'luces',\n",
    "                      '49':'cantidad de gente en el estadio','255':'apertura del techo del estadio','256':'humedad en el aire',\n",
    "                      '257':'presión del aire','258':'se agotaron las entradas','259':'temperatura en grados centigrados',\n",
    "                      '260':'iluminación artificial','304':'balón en juego con jugador fuera de la cancha',\n",
    "                      '305':'juego no reiniciado con jugador fuera de la cancha',\n",
    "                      '306':'jugador fuera de la cancha por cambio de indumentaria','310':'jugador sale de la cancha',\n",
    "                      '311':'jugador vuelve a la cancha','348':'jugador que patea penal','127':'dirección del juego',\n",
    "                      '56':'zona','144':'explicación de eventos borrados','250':'bloqueo (pendiente)',\n",
    "                      '57':'tipo de finalización','193':'medida de gol','343':'revisión de la jugada',\n",
    "                      '336':'decisión cancelada','329':'Gol VAR','330':'VAR penal concedido','331':'VAR penal no concedido',\n",
    "                      '332':'VAR tarjeta más dura','333':'identidad confundida','334':'VAR otro asunto',\n",
    "                      '335':'decisión de árbitro confirmada','341':'Gol no condedido','342':'tarjeta roja',\n",
    "                      '281':'asistencia de fantasía','282':'equipo asistencia de fantasia',\n",
    "                      '280':'tipo de asistencia de fantasia','216':'2do id evento relacionado','252':'tiro errado (pendiente)',\n",
    "                      '253':'tiro errado sale última línea (pendiente)','251':'tiro al poste (pendiente)',\n",
    "                      '307':'fase de posesion','249':'remate (pendiente)'}"
   ]
  },
  {
   "cell_type": "code",
   "execution_count": 13,
   "metadata": {},
   "outputs": [],
   "source": [
    "# Dataframe.\n",
    "# id_equipo:equipo\n",
    "dicc_equipos = dict(zip(laLiga.id_local, laLiga.local))"
   ]
  },
  {
   "cell_type": "code",
   "execution_count": 14,
   "metadata": {},
   "outputs": [],
   "source": [
    "# Se añaden campos adicionales al dataframe\n",
    "laLiga['equipo'] = laLiga['id_equipo']\n",
    "laLiga['jugador'] = laLiga['id_jugador']\n",
    "laLiga['categoria_evento'] = laLiga['id_categoria_evento']\n",
    "laLiga['calificador'] = laLiga['id_calificador']\n",
    "laLiga['jugador'] = laLiga['jugador'].map(dicc_jugadores)\n",
    "laLiga['categoria_evento'] = laLiga['id_categoria_evento'].map(dicc_eventos)\n",
    "laLiga['calificador'] = laLiga['id_calificador'].map(dicc_calificadores)\n",
    "laLiga['equipo'] = laLiga['id_equipo'].map(dicc_equipos)"
   ]
  },
  {
   "cell_type": "code",
   "execution_count": 15,
   "metadata": {},
   "outputs": [],
   "source": [
    "# Se reposicionan los campos del dataframe\n",
    "laLiga = laLiga[['id_local','local','id_visitante','visitante','gol_local','gol_visitante','fecha','id_evento','id_periodo',\n",
    "                 'minuto','segundo','id_categoria_evento','categoria_evento','id_calificador','calificador','valor','id_equipo',\n",
    "                 'equipo','id_jugador','jugador','x','y','outcome']]"
   ]
  },
  {
   "cell_type": "code",
   "execution_count": 16,
   "metadata": {},
   "outputs": [
    {
     "data": {
      "text/plain": [
       "(2950881, 23)"
      ]
     },
     "execution_count": 16,
     "metadata": {},
     "output_type": "execute_result"
    }
   ],
   "source": [
    "laLiga.shape"
   ]
  },
  {
   "cell_type": "code",
   "execution_count": 29,
   "metadata": {},
   "outputs": [
    {
     "name": "stdout",
     "output_type": "stream",
     "text": [
      "C:\\Users\\DELUX\\Desktop\\publicaciones\\3_GolesEsperados\\dataframe\n"
     ]
    }
   ],
   "source": [
    "cd C:\\Users\\DELUX\\Desktop\\publicaciones\\3_GolesEsperados\\dataframe"
   ]
  },
  {
   "cell_type": "code",
   "execution_count": 30,
   "metadata": {},
   "outputs": [],
   "source": [
    "# Se graba archivo final con dataframe completo con los eventos de LaLiga (temporada 2018-2019)\n",
    "laLiga.to_csv('laLiga.csv',encoding='utf-8', index=False)"
   ]
  }
 ],
 "metadata": {
  "kernelspec": {
   "display_name": "Python 3",
   "language": "python",
   "name": "python3"
  },
  "language_info": {
   "codemirror_mode": {
    "name": "ipython",
    "version": 3
   },
   "file_extension": ".py",
   "mimetype": "text/x-python",
   "name": "python",
   "nbconvert_exporter": "python",
   "pygments_lexer": "ipython3",
   "version": "3.7.1"
  }
 },
 "nbformat": 4,
 "nbformat_minor": 2
}
